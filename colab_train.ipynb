{
 "cells": [
  {
   "cell_type": "markdown",
   "metadata": {
    "id": "title"
   },
   "source": [
    "# Dental Caries Detection - Training Notebook\n\nThis notebook implements training for dental caries detection using Google Colab GPU.\n\n## Setup Steps:\n1. Verify GPU availability\n2. Install dependencies\n3. Clone repository and set up environment\n4. Prepare dataset\n5. Start training"
   ]
  },
  {
   "cell_type": "code",
   "execution_count": null,
   "metadata": {
    "id": "verify_gpu"
   },
   "source": [
    "# First, verify GPU is enabled\n!nvidia-smi"
   ],
   "outputs": []
  },
  {
   "cell_type": "code",
   "execution_count": null,
   "metadata": {
    "id": "install_dependencies"
   },
   "source": [
    "# Install PyTorch with CUDA support\n!pip install torch==2.0.1+cu118 torchvision==0.15.2+cu118 --extra-index-url https://download.pytorch.org/whl/cu118\n\n# Install other dependencies\n!pip install albumentations==1.3.1 opencv-python==4.8.0.74 numpy==1.24.3 tqdm==4.65.0\n\n# Import basic libraries\nimport os\nimport sys\nimport torch\nimport gc\n\n# Set CUDA environment variables\nos.environ['CUDA_LAUNCH_BLOCKING'] = '1'\nos.environ['TORCH_USE_CUDA_DSA'] = '1'\nos.environ['PYTORCH_CUDA_ALLOC_CONF'] = 'max_split_size_mb:128'\n\n# Clear any existing memory\ngc.collect()\nif torch.cuda.is_available():\n    torch.cuda.empty_cache()\n    torch.cuda.reset_peak_memory_stats()"
   ],
   "outputs": []
  },
  {
   "cell_type": "code",
   "execution_count": null,
   "metadata": {
    "id": "setup_repository"
   },
   "source": [
    "# Clone repository\n!git clone https://github.com/projectprasanth42/dental-caries-detection.git\n%cd dental-caries-detection\n\n# Add project to path\nproject_path = os.path.abspath('.')\nif project_path not in sys.path:\n    sys.path.append(project_path)\n\n# Test CUDA setup\ndef test_cuda():\n    try:\n        print(\"\\nGPU Information:\")\n        print(f\"PyTorch Version: {torch.__version__}\")\n        print(f\"CUDA Available: {torch.cuda.is_available()}\")\n        if torch.cuda.is_available():\n            print(f\"GPU Device: {torch.cuda.get_device_name(0)}\")\n            print(f\"CUDA Version: {torch.version.cuda}\")\n            \n            # Test small tensor operations\n            x = torch.ones(2, 2, device='cuda')\n            y = x + x\n            print(\"\\nCUDA Test Successful!\")\n            print(f\"Test tensor device: {y.device}\")\n            print(f\"Current memory allocated: {torch.cuda.memory_allocated() / 1024**2:.2f} MB\")\n            \n            del x, y\n            torch.cuda.empty_cache()\n            return True\n    except Exception as e:\n        print(f\"\\nError testing CUDA: {str(e)}\")\n        return False\n\ncuda_ok = test_cuda()\nif not cuda_ok:\n    raise RuntimeError(\"CUDA setup failed. Please ensure GPU is enabled in Colab.\")"
   ],
   "outputs": []
  },
  {
   "cell_type": "code",
   "execution_count": null,
   "metadata": {
    "id": "mount_drive"
   },
   "source": [
    "from google.colab import drive\n\n# Mount Google Drive\ndrive.mount('/content/drive')\n\n# Set data paths\nDRIVE_PATH = '/content/drive/MyDrive/dental_caries_dataset'\n\n# Create config\nfrom src.configs.model_config import ModelConfig\n\nconfig = ModelConfig()\n\n# Update paths\nconfig.train_data_path = os.path.join(DRIVE_PATH, 'X_train.npy')\nconfig.train_labels_path = os.path.join(DRIVE_PATH, 'y_train.npy')\nconfig.val_data_path = os.path.join(DRIVE_PATH, 'X_val.npy')\nconfig.val_labels_path = os.path.join(DRIVE_PATH, 'y_val.npy')\n\n# Verify dataset\nimport numpy as np\n\ndef verify_dataset():\n    print(\"\\nChecking dataset:\")\n    for name, path in [\n        ('Training Data', config.train_data_path),\n        ('Training Labels', config.train_labels_path),\n        ('Validation Data', config.val_data_path),\n        ('Validation Labels', config.val_labels_path)\n    ]:\n        if os.path.exists(path):\n            data = np.load(path)\n            print(f\"{name}: \u2713 Found - Shape: {data.shape}\")\n            del data\n        else:\n            print(f\"{name}: \u2717 Not found at {path}\")\n            raise FileNotFoundError(f\"Dataset file not found: {path}\")\n\nverify_dataset()"
   ],
   "outputs": []
  },
  {
   "cell_type": "code",
   "execution_count": null,
   "metadata": {
    "id": "start_training"
   },
   "source": [
    "from src.training.memory_efficient_train import memory_efficient_training\nimport logging\n\n# Configure logging\nlogging.basicConfig(\n    level=logging.INFO,\n    format='%(asctime)s - %(levelname)s - %(message)s'\n)\n\n# Additional memory cleanup before training\ngc.collect()\nif torch.cuda.is_available():\n    torch.cuda.empty_cache()\n    torch.cuda.reset_peak_memory_stats()\n\n# Start training with error handling\ntry:\n    memory_efficient_training(config)\nexcept Exception as e:\n    logging.error(f\"Training failed: {str(e)}\")\n    logging.info(\"Cleaning up GPU memory...\")\n    gc.collect()\n    if torch.cuda.is_available():\n        torch.cuda.empty_cache()\n        torch.cuda.reset_peak_memory_stats()\n    raise"
   ],
   "outputs": []
  }
 ],
 "metadata": {
  "accelerator": "GPU",
  "colab": {
   "gpuType": "T4",
   "provenance": []
  },
  "kernelspec": {
   "display_name": "Python 3",
   "name": "python3"
  },
  "language_info": {
   "name": "python"
  }
 },
 "nbformat": 4,
 "nbformat_minor": 0
}